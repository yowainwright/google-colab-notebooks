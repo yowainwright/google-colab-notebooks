{
  "nbformat": 4,
  "nbformat_minor": 0,
  "metadata": {
    "colab": {
      "provenance": [],
      "authorship_tag": "ABX9TyP12FcPfJgfrsJ885cQBF09",
      "include_colab_link": true
    },
    "kernelspec": {
      "name": "python3",
      "display_name": "Python 3"
    },
    "language_info": {
      "name": "python"
    }
  },
  "cells": [
    {
      "cell_type": "markdown",
      "metadata": {
        "id": "view-in-github",
        "colab_type": "text"
      },
      "source": [
        "<a href=\"https://colab.research.google.com/github/yowainwright/google-colab-notebooks/blob/main/rxpy_demo.ipynb\" target=\"_parent\"><img src=\"https://colab.research.google.com/assets/colab-badge.svg\" alt=\"Open In Colab\"/></a>"
      ]
    },
    {
      "cell_type": "code",
      "execution_count": 14,
      "metadata": {
        "colab": {
          "base_uri": "https://localhost:8080/"
        },
        "id": "8EmD8T9PB8zY",
        "outputId": "e99ba1c5-c9c4-4916-9c9f-37823fa6a9bc"
      },
      "outputs": [
        {
          "output_type": "stream",
          "name": "stdout",
          "text": [
            "Looking in indexes: https://pypi.org/simple, https://us-python.pkg.dev/colab-wheels/public/simple/\n",
            "Requirement already satisfied: opendatasets in /usr/local/lib/python3.8/dist-packages (0.1.22)\n",
            "Requirement already satisfied: click in /usr/local/lib/python3.8/dist-packages (from opendatasets) (7.1.2)\n",
            "Requirement already satisfied: tqdm in /usr/local/lib/python3.8/dist-packages (from opendatasets) (4.64.1)\n",
            "Requirement already satisfied: kaggle in /usr/local/lib/python3.8/dist-packages (from opendatasets) (1.5.12)\n",
            "Requirement already satisfied: python-dateutil in /usr/local/lib/python3.8/dist-packages (from kaggle->opendatasets) (2.8.2)\n",
            "Requirement already satisfied: python-slugify in /usr/local/lib/python3.8/dist-packages (from kaggle->opendatasets) (8.0.0)\n",
            "Requirement already satisfied: urllib3 in /usr/local/lib/python3.8/dist-packages (from kaggle->opendatasets) (1.24.3)\n",
            "Requirement already satisfied: certifi in /usr/local/lib/python3.8/dist-packages (from kaggle->opendatasets) (2022.12.7)\n",
            "Requirement already satisfied: requests in /usr/local/lib/python3.8/dist-packages (from kaggle->opendatasets) (2.25.1)\n",
            "Requirement already satisfied: six>=1.10 in /usr/local/lib/python3.8/dist-packages (from kaggle->opendatasets) (1.15.0)\n",
            "Requirement already satisfied: text-unidecode>=1.3 in /usr/local/lib/python3.8/dist-packages (from python-slugify->kaggle->opendatasets) (1.3)\n",
            "Requirement already satisfied: idna<3,>=2.5 in /usr/local/lib/python3.8/dist-packages (from requests->kaggle->opendatasets) (2.10)\n",
            "Requirement already satisfied: chardet<5,>=3.0.2 in /usr/local/lib/python3.8/dist-packages (from requests->kaggle->opendatasets) (4.0.0)\n",
            "Looking in indexes: https://pypi.org/simple, https://us-python.pkg.dev/colab-wheels/public/simple/\n",
            "Requirement already satisfied: reactivex in /usr/local/lib/python3.8/dist-packages (4.0.4)\n",
            "Requirement already satisfied: typing-extensions<5.0.0,>=4.1.1 in /usr/local/lib/python3.8/dist-packages (from reactivex) (4.4.0)\n",
            "Looking in indexes: https://pypi.org/simple, https://us-python.pkg.dev/colab-wheels/public/simple/\n",
            "Requirement already satisfied: pandas in /usr/local/lib/python3.8/dist-packages (1.3.5)\n",
            "Requirement already satisfied: python-dateutil>=2.7.3 in /usr/local/lib/python3.8/dist-packages (from pandas) (2.8.2)\n",
            "Requirement already satisfied: pytz>=2017.3 in /usr/local/lib/python3.8/dist-packages (from pandas) (2022.7.1)\n",
            "Requirement already satisfied: numpy>=1.17.3 in /usr/local/lib/python3.8/dist-packages (from pandas) (1.21.6)\n",
            "Requirement already satisfied: six>=1.5 in /usr/local/lib/python3.8/dist-packages (from python-dateutil>=2.7.3->pandas) (1.15.0)\n"
          ]
        }
      ],
      "source": [
        "!pip install opendatasets\n",
        "!pip install reactivex\n",
        "!pip install pandas"
      ]
    },
    {
      "cell_type": "code",
      "source": [
        "import opendatasets as od\n",
        "  \n",
        "od.download(\n",
        "    \"https://www.kaggle.com/datasets/fredericksalazar/population-world-since-1960-to-2021\")"
      ],
      "metadata": {
        "colab": {
          "base_uri": "https://localhost:8080/"
        },
        "id": "ixw-W6yREBqD",
        "outputId": "dfe9e039-2578-4bff-de5e-2e7f8eed0aa3"
      },
      "execution_count": 3,
      "outputs": [
        {
          "output_type": "stream",
          "name": "stdout",
          "text": [
            "Please provide your Kaggle credentials to download this dataset. Learn more: http://bit.ly/kaggle-creds\n",
            "Your Kaggle username: yowainwright\n",
            "Your Kaggle Key: ··········\n",
            "Downloading population-world-since-1960-to-2021.zip to ./population-world-since-1960-to-2021\n"
          ]
        },
        {
          "output_type": "stream",
          "name": "stderr",
          "text": [
            "100%|██████████| 78.6k/78.6k [00:00<00:00, 14.8MB/s]"
          ]
        },
        {
          "output_type": "stream",
          "name": "stdout",
          "text": [
            "\n"
          ]
        },
        {
          "output_type": "stream",
          "name": "stderr",
          "text": [
            "\n"
          ]
        }
      ]
    },
    {
      "cell_type": "code",
      "source": [
        "import pandas as pd\n",
        "import rx\n",
        "import rx.operators as ops\n",
        "\n",
        "\n",
        "def create_df_from_csv(csv, cols):\n",
        "  df = pd.concat((chunk for chunk in pd.read_csv(csv, usecols=cols, chunksize=5000)))\n",
        "  population_dict = df.T.to_dict()\n",
        "  return list(population_dict.values())\n",
        "\n",
        "rx.from_(['population-world-since-1960-to-2021/data_population_world.csv']).pipe(\n",
        "  ops.map(lambda file: create_df_from_csv(file, [\"Country Name\", \"1960\", \"2021\"])),\n",
        ").subscribe(print)"
      ],
      "metadata": {
        "colab": {
          "base_uri": "https://localhost:8080/"
        },
        "id": "fFigtCVEEZHW",
        "outputId": "07e68e1c-a3fa-48ec-b209-d6dcc58c7d0d"
      },
      "execution_count": 33,
      "outputs": [
        {
          "output_type": "stream",
          "name": "stdout",
          "text": [
            "[{'Country Name': 'Aruba', '1960': 54608.0, '2021': 106537.0}, {'Country Name': nan, '1960': 130692579.0, '2021': 702976832.0}, {'Country Name': 'Afganistán', '1960': 8622466.0, '2021': 40099462.0}, {'Country Name': nan, '1960': 97256290.0, '2021': 478185907.0}, {'Country Name': 'Angola', '1960': 5357195.0, '2021': 34503774.0}, {'Country Name': 'Albania', '1960': 1608800.0, '2021': 2811666.0}, {'Country Name': 'Andorra', '1960': 9443.0, '2021': 79034.0}, {'Country Name': 'El mundo árabe', '1960': 93359407.0, '2021': 456520777.0}, {'Country Name': 'Emiratos Árabes Unidos', '1960': 133426.0, '2021': 9365145.0}, {'Country Name': 'Argentina', '1960': 20349744.0, '2021': 45808747.0}, {'Country Name': 'Armenia', '1960': 1904148.0, '2021': 2790974.0}, {'Country Name': 'Samoa Americana', '1960': 20085.0, '2021': 45035.0}, {'Country Name': 'Antigua y Barbuda', '1960': 55342.0, '2021': 93219.0}, {'Country Name': 'Australia', '1960': 10276477.0, '2021': 25688079.0}, {'Country Name': 'Austria', '1960': 7047539.0, '2021': 8955797.0}, {'Country Name': 'Azerbaiyán', '1960': 3894500.0, '2021': 10137750.0}, {'Country Name': 'Burundi', '1960': 2746628.0, '2021': 12551213.0}, {'Country Name': 'Bélgica', '1960': 9153489.0, '2021': 11592952.0}, {'Country Name': 'Benin', '1960': 2512284.0, '2021': 12996895.0}, {'Country Name': 'Burkina Faso', '1960': 4783259.0, '2021': 22100683.0}, {'Country Name': 'Bangladesh', '1960': 50396429.0, '2021': 169356251.0}, {'Country Name': 'Bulgaria', '1960': 7867374.0, '2021': 6877743.0}, {'Country Name': 'Bahrein', '1960': 160691.0, '2021': 1463265.0}, {'Country Name': 'Bahamas', '1960': 114500.0, '2021': 407906.0}, {'Country Name': 'Bosnia y Herzegovina', '1960': 3262539.0, '2021': 3270943.0}, {'Country Name': 'Belarús', '1960': 8198000.0, '2021': 9340314.0}, {'Country Name': 'Belice', '1960': 91403.0, '2021': 400031.0}, {'Country Name': 'Bermudas', '1960': 44400.0, '2021': 63867.0}, {'Country Name': 'Bolivia', '1960': 3707515.0, '2021': 12079472.0}, {'Country Name': 'Brasil', '1960': 73092515.0, '2021': 214326223.0}, {'Country Name': 'Barbados', '1960': 232550.0, '2021': 281200.0}, {'Country Name': 'Brunei Darussalam', '1960': 85346.0, '2021': 445373.0}, {'Country Name': 'Bhután', '1960': 221266.0, '2021': 777486.0}, {'Country Name': 'Botswana', '1960': 512865.0, '2021': 2588423.0}, {'Country Name': 'República Centroafricana', '1960': 1679728.0, '2021': 5457154.0}, {'Country Name': 'Canadá', '1960': 17909356.0, '2021': 38246108.0}, {'Country Name': 'Europa Central y del Báltico', '1960': 91401764.0, '2021': 101430997.0}, {'Country Name': 'Suiza', '1960': 5327827.0, '2021': 8703405.0}, {'Country Name': 'Islas del Canal', '1960': 109186.0, '2021': 172683.0}, {'Country Name': 'Chile', '1960': 8141820.0, '2021': 19493184.0}, {'Country Name': 'China', '1960': 667070000.0, '2021': 1412360000.0}, {'Country Name': \"Côte d'Ivoire\", '1960': 3708661.0, '2021': 27478249.0}, {'Country Name': 'Camerún', '1960': 5117608.0, '2021': 27198628.0}, {'Country Name': 'Congo, República Democrática del', '1960': 15276558.0, '2021': 95894118.0}, {'Country Name': 'Congo, República del', '1960': 1055693.0, '2021': 5835806.0}, {'Country Name': 'Colombia', '1960': 15687688.0, '2021': 51516562.0}, {'Country Name': 'Comoras', '1960': 194852.0, '2021': 821625.0}, {'Country Name': 'Cabo Verde', '1960': 209849.0, '2021': 587925.0}, {'Country Name': 'Costa Rica', '1960': 1346302.0, '2021': 5153957.0}, {'Country Name': 'Estados pequeos del Caribe', '1960': 4209141.0, '2021': 7481877.0}, {'Country Name': 'Cuba', '1960': 7267395.0, '2021': 11256372.0}, {'Country Name': 'Curacao', '1960': 124826.0, '2021': 152369.0}, {'Country Name': 'Islas Caimán', '1960': 8473.0, '2021': 68136.0}, {'Country Name': 'Chipre', '1960': 585725.0, '2021': 1244188.0}, {'Country Name': 'República Checa', '1960': 9602006.0, '2021': 10505772.0}, {'Country Name': 'Alemania', '1960': 72814900.0, '2021': 83196078.0}, {'Country Name': 'Djibouti', '1960': 85940.0, '2021': 1105557.0}, {'Country Name': 'Dominica', '1960': 59379.0, '2021': 72412.0}, {'Country Name': 'Dinamarca', '1960': 4579603.0, '2021': 5856733.0}, {'Country Name': 'República Dominicana', '1960': 3298021.0, '2021': 11117873.0}, {'Country Name': 'Argelia', '1960': 11394307.0, '2021': 44177969.0}, {'Country Name': 'Asia oriental y el Pacífico (excluido altos ingresos)', '1960': 896482332.0, '2021': 2123673456.0}, {'Country Name': 'inicial del dividendo demográfico', '1960': 979461502.0, '2021': 3411889059.0}, {'Country Name': 'Asia oriental y el Pacífico', '1960': 1043333636.0, '2021': 2370204347.0}, {'Country Name': 'Europa y Asia central (excluido altos ingresos)', '1960': 255726092.0, '2021': 401575218.0}, {'Country Name': 'Europa y Asia central', '1960': 666273660.0, '2021': 923777214.0}, {'Country Name': 'Ecuador', '1960': 4618158.0, '2021': 17797737.0}, {'Country Name': 'Egipto, República Árabe de', '1960': 27034499.0, '2021': 109262178.0}, {'Country Name': 'Zona del Euro', '1960': 265244987.0, '2021': 343067846.0}, {'Country Name': 'Eritrea', '1960': 993568.0, '2021': 3620312.0}, {'Country Name': 'España', '1960': 30455000.0, '2021': 47415750.0}, {'Country Name': 'Estonia', '1960': 1211537.0, '2021': 1330932.0}, {'Country Name': 'Etiopía', '1960': 21739710.0, '2021': 120283026.0}, {'Country Name': 'Unión Europea', '1960': 356947129.0, '2021': 447199800.0}, {'Country Name': 'Frágiles y situaciones de conflicto afectados', '1960': 244896253.0, '2021': 1001462452.0}, {'Country Name': 'Finlandia', '1960': 4429634.0, '2021': 5541017.0}, {'Country Name': 'Fiji', '1960': 401841.0, '2021': 924610.0}, {'Country Name': 'Francia', '1960': 46649927.0, '2021': 67749632.0}, {'Country Name': 'Islas Feroe', '1960': 34154.0, '2021': 52889.0}, {'Country Name': 'Micronesia (Estados Federados de)', '1960': 42986.0, '2021': 113131.0}, {'Country Name': 'Gabón', '1960': 513340.0, '2021': 2341179.0}, {'Country Name': 'Reino Unido', '1960': 52400000.0, '2021': 67326569.0}, {'Country Name': 'Georgia', '1960': 3645600.0, '2021': 3708610.0}, {'Country Name': 'Ghana', '1960': 6911510.0, '2021': 32833031.0}, {'Country Name': 'Gibraltar', '1960': 21822.0, '2021': 32669.0}, {'Country Name': 'Guinea', '1960': 3516814.0, '2021': 13531906.0}, {'Country Name': 'Gambia', '1960': 399649.0, '2021': 2639916.0}, {'Country Name': 'Guinea-Bissau', '1960': 577933.0, '2021': 2060721.0}, {'Country Name': 'Guinea Ecuatorial', '1960': 267351.0, '2021': 1634466.0}, {'Country Name': 'Grecia', '1960': 8331725.0, '2021': 10641221.0}, {'Country Name': 'Granada', '1960': 93772.0, '2021': 124610.0}, {'Country Name': 'Groenlandia', '1960': 32500.0, '2021': 56653.0}, {'Country Name': 'Guatemala', '1960': 4128880.0, '2021': 17109746.0}, {'Country Name': 'Guam', '1960': 72374.0, '2021': 170534.0}, {'Country Name': 'Guyana', '1960': 571990.0, '2021': 804567.0}, {'Country Name': 'Ingreso alto', '1960': 779546518.0, '2021': 1240629858.0}, {'Country Name': 'Hong Kong, Región Administrativa Especial', '1960': 3114671.0, '2021': 7413100.0}, {'Country Name': 'Honduras', '1960': 2078617.0, '2021': 10278345.0}, {'Country Name': 'Países pobres muy endeudados (PPME)', '1960': 163453961.0, '2021': 861156745.0}, {'Country Name': 'Croacia', '1960': 4140181.0, '2021': 3899000.0}, {'Country Name': 'Haití', '1960': 3901139.0, '2021': 11447569.0}, {'Country Name': 'Hungría', '1960': 9983967.0, '2021': 9709891.0}, {'Country Name': 'Sólo BIRF', '1960': 1914221159.0, '2021': 4917520297.0}, {'Country Name': 'BIRF y la AIF', '1960': 2298062888.0, '2021': 6695397735.0}, {'Country Name': 'total de la AIF', '1960': 383841729.0, '2021': 1777877438.0}, {'Country Name': 'mezcla de la AIF', '1960': 120380760.0, '2021': 595016031.0}, {'Country Name': 'Indonesia', '1960': 88382881.0, '2021': 273753191.0}, {'Country Name': 'Sólo AIF', '1960': 263460969.0, '2021': 1182861407.0}, {'Country Name': 'Isla de Man', '1960': 48793.0, '2021': 84263.0}, {'Country Name': 'India', '1960': 445954579.0, '2021': 1407563842.0}, {'Country Name': 'No clasificado', '1960': nan, '2021': nan}, {'Country Name': 'Irlanda', '1960': 2828600.0, '2021': 5033165.0}, {'Country Name': 'Irán, República Islámica del', '1960': 21388806.0, '2021': 87923432.0}, {'Country Name': 'Iraq', '1960': 7084678.0, '2021': 43533592.0}, {'Country Name': 'Islandia', '1960': 175574.0, '2021': 372520.0}, {'Country Name': 'Israel', '1960': 2114020.0, '2021': 9364000.0}, {'Country Name': 'Italia', '1960': 50199700.0, '2021': 59109668.0}, {'Country Name': 'Jamaica', '1960': 1642331.0, '2021': 2827695.0}, {'Country Name': 'Jordania', '1960': 847936.0, '2021': 11148278.0}, {'Country Name': 'Japón', '1960': 93216000.0, '2021': 125681593.0}, {'Country Name': 'Kazajstán', '1960': 9319283.0, '2021': 19000988.0}, {'Country Name': 'Kenya', '1960': 7751435.0, '2021': 53005614.0}, {'Country Name': 'Kirguistán', '1960': 2172300.0, '2021': 6691800.0}, {'Country Name': 'Camboya', '1960': 5541676.0, '2021': 16589023.0}, {'Country Name': 'Kiribati', '1960': 47093.0, '2021': 128874.0}, {'Country Name': 'Saint Kitts y Nevis', '1960': 56660.0, '2021': 47606.0}, {'Country Name': 'Corea, República de', '1960': 25012374.0, '2021': 51744876.0}, {'Country Name': 'Kuwait', '1960': 305415.0, '2021': 4250114.0}, {'Country Name': 'América Latina y el Caribe (excluido altos ingresos)', '1960': 195283102.0, '2021': 593308001.0}, {'Country Name': 'República Democrática Popular Lao', '1960': 2122532.0, '2021': 7425057.0}, {'Country Name': 'Líbano', '1960': 1798092.0, '2021': 5592631.0}, {'Country Name': 'Liberia', '1960': 1137026.0, '2021': 5193416.0}, {'Country Name': 'Libia', '1960': 1426986.0, '2021': 6735277.0}, {'Country Name': 'Santa Lucía', '1960': 91614.0, '2021': 179651.0}, {'Country Name': 'América Latina y el Caribe', '1960': 219142626.0, '2021': 654981699.0}, {'Country Name': 'Países menos desarrollados: clasificación de las Naciones Unidas', '1960': 243968890.0, '2021': 1099568566.0}, {'Country Name': 'Países de ingreso bajo', '1960': 142398818.0, '2021': 718255072.0}, {'Country Name': 'Liechtenstein', '1960': 16472.0, '2021': 39039.0}, {'Country Name': 'Sri Lanka', '1960': 9874476.0, '2021': 22156000.0}, {'Country Name': 'Países de ingreso mediano bajo', '1960': 989601453.0, '2021': 3398187527.0}, {'Country Name': 'Ingreso mediano y bajo', '1960': 2243861384.0, '2021': 6619578961.0}, {'Country Name': 'Lesotho', '1960': 737838.0, '2021': 2281454.0}, {'Country Name': 'avanzada del dividendo demográfico', '1960': 1095639330.0, '2021': 2321862159.0}, {'Country Name': 'Lituania', '1960': 2778550.0, '2021': 2800839.0}, {'Country Name': 'Luxemburgo', '1960': 313970.0, '2021': 640064.0}, {'Country Name': 'Letonia', '1960': 2120979.0, '2021': 1884490.0}, {'Country Name': 'Región Administrativa Especial de Macao, China', '1960': 177014.0, '2021': 686607.0}, {'Country Name': 'Isla de San Martín (parte francesa)', '1960': 4135.0, '2021': 31948.0}, {'Country Name': 'Marruecos', '1960': 11769774.0, '2021': 37076584.0}, {'Country Name': 'Mónaco', '1960': 21797.0, '2021': 36686.0}, {'Country Name': 'República de Moldova', '1960': 2074015.0, '2021': 2615199.0}, {'Country Name': 'Madagascar', '1960': 5073342.0, '2021': 28915653.0}, {'Country Name': 'Maldivas', '1960': 91650.0, '2021': 521457.0}, {'Country Name': 'Oriente Medio y Norte de África', '1960': 104958259.0, '2021': 486167363.0}, {'Country Name': 'México', '1960': 36268055.0, '2021': 126705138.0}, {'Country Name': 'Islas Marshall', '1960': 15374.0, '2021': 42050.0}, {'Country Name': ' Ingreso mediano', '1960': 2101462566.0, '2021': 5901323889.0}, {'Country Name': 'Macedonia del Norte', '1960': 1462368.0, '2021': 2065092.0}, {'Country Name': 'Malí', '1960': 5346792.0, '2021': 21904983.0}, {'Country Name': 'Malta', '1960': 326550.0, '2021': 518536.0}, {'Country Name': 'Myanmar', '1960': 21720697.0, '2021': 53798084.0}, {'Country Name': 'Oriente Medio y Norte de África (excluido altos ingresos)', '1960': 97179656.0, '2021': 418047201.0}, {'Country Name': 'Montenegro', '1960': 480579.0, '2021': 619211.0}, {'Country Name': 'Mongolia', '1960': 977903.0, '2021': 3347782.0}, {'Country Name': 'Mariana', '1960': 8702.0, '2021': 49481.0}, {'Country Name': 'Mozambique', '1960': 6788375.0, '2021': 32077072.0}, {'Country Name': 'Mauritania', '1960': 838478.0, '2021': 4614974.0}, {'Country Name': 'Mauricio', '1960': 676683.0, '2021': 1266060.0}, {'Country Name': 'Malawi', '1960': 3621081.0, '2021': 19889742.0}, {'Country Name': 'Malasia', '1960': 7833782.0, '2021': 33573874.0}, {'Country Name': 'América del Norte', '1960': 198624756.0, '2021': 370203720.0}, {'Country Name': 'Namibia', '1960': 590181.0, '2021': 2530151.0}, {'Country Name': 'Nueva Caledonia', '1960': 79000.0, '2021': 271030.0}, {'Country Name': 'Níger', '1960': 3497431.0, '2021': 25252722.0}, {'Country Name': 'Nigeria', '1960': 44928342.0, '2021': 213401323.0}, {'Country Name': 'Nicaragua', '1960': 1789684.0, '2021': 6850540.0}, {'Country Name': 'Países Bajos', '1960': 11486631.0, '2021': 17533044.0}, {'Country Name': 'Noruega', '1960': 3581239.0, '2021': 5408320.0}, {'Country Name': 'Nepal', '1960': 10167941.0, '2021': 30034989.0}, {'Country Name': 'Nauru', '1960': 4582.0, '2021': 12511.0}, {'Country Name': 'Nueva Zelandia', '1960': 2371800.0, '2021': 5122600.0}, {'Country Name': 'Miembros OCDE', '1960': 807630906.0, '2021': 1372736513.0}, {'Country Name': 'Omán', '1960': 536553.0, '2021': 4520471.0}, {'Country Name': 'Otros Estados pequeos', '1960': 9080716.0, '2021': 32708003.0}, {'Country Name': 'Pakistán', '1960': 45954226.0, '2021': 231402117.0}, {'Country Name': 'Panamá', '1960': 1126989.0, '2021': 4351267.0}, {'Country Name': 'Perú', '1960': 10172207.0, '2021': 33715471.0}, {'Country Name': 'Filipinas', '1960': 28486871.0, '2021': 113880328.0}, {'Country Name': 'Palau', '1960': 9446.0, '2021': 18024.0}, {'Country Name': 'Papua Nueva Guinea', '1960': 1985666.0, '2021': 9949437.0}, {'Country Name': 'Polonia', '1960': 29637450.0, '2021': 37747124.0}, {'Country Name': 'previa al dividendo demográfico', '1960': 188484894.0, '2021': 1011043183.0}, {'Country Name': 'Puerto Rico', '1960': 2358000.0, '2021': 3263584.0}, {'Country Name': 'Corea, República Popular Democrática de', '1960': 11655666.0, '2021': 25971909.0}, {'Country Name': 'Portugal', '1960': 8857716.0, '2021': 10325147.0}, {'Country Name': 'Paraguay', '1960': 1894829.0, '2021': 6703799.0}, {'Country Name': 'Ribera Occidental y Gaza', '1960': nan, '2021': 4922749.0}, {'Country Name': 'Estados pequeos de las Islas del Pacfico', '1960': 905537.0, '2021': 2602173.0}, {'Country Name': 'posterior al dividendo demográfico', '1960': 755575073.0, '2021': 1116796245.0}, {'Country Name': 'Polinesia Francesa', '1960': 84851.0, '2021': 304032.0}, {'Country Name': 'Qatar', '1960': 36385.0, '2021': 2688235.0}, {'Country Name': 'Rumania', '1960': 18406905.0, '2021': 19119880.0}, {'Country Name': 'Federación de Rusia', '1960': 119897000.0, '2021': 143449286.0}, {'Country Name': 'Rwanda', '1960': 2966162.0, '2021': 13461888.0}, {'Country Name': 'Asia meridional', '1960': 571283033.0, '2021': 1901911604.0}, {'Country Name': 'Arabia Saudita', '1960': 4165563.0, '2021': 35950396.0}, {'Country Name': 'Sudán', '1960': 8326462.0, '2021': 45657202.0}, {'Country Name': 'Senegal', '1960': 3273177.0, '2021': 16876720.0}, {'Country Name': 'Singapur', '1960': 1646400.0, '2021': 5453566.0}, {'Country Name': 'Islas Salomón', '1960': 133440.0, '2021': 707851.0}, {'Country Name': 'Sierra Leona', '1960': 2301310.0, '2021': 8420641.0}, {'Country Name': 'El Salvador', '1960': 2779327.0, '2021': 6314167.0}, {'Country Name': 'San Marino', '1960': 15556.0, '2021': 33745.0}, {'Country Name': 'Somalia', '1960': 2870732.0, '2021': 17065581.0}, {'Country Name': 'Serbia', '1960': 6608000.0, '2021': 6834326.0}, {'Country Name': 'África al sur del Sahara (excluido altos ingresos)', '1960': 227907169.0, '2021': 1181063481.0}, {'Country Name': 'Sudán del Sur', '1960': 2907724.0, '2021': 10748272.0}, {'Country Name': 'África al sur del Sahara', '1960': 227948869.0, '2021': 1181162739.0}, {'Country Name': 'Pequeños Estados', '1960': 14195394.0, '2021': 42792053.0}, {'Country Name': 'Santo Tomé y Príncipe', '1960': 68038.0, '2021': 223107.0}, {'Country Name': 'Suriname', '1960': 268396.0, '2021': 612985.0}, {'Country Name': 'República Eslovaca', '1960': 4068095.0, '2021': 5447247.0}, {'Country Name': 'Eslovenia', '1960': 1584720.0, '2021': 2108079.0}, {'Country Name': 'Suecia', '1960': 7484656.0, '2021': 10415811.0}, {'Country Name': 'Eswatini', '1960': 345065.0, '2021': 1192271.0}, {'Country Name': 'Sint Maarten (Dutch part)', '1960': 2646.0, '2021': 42846.0}, {'Country Name': 'Seychelles', '1960': 41700.0, '2021': 99258.0}, {'Country Name': 'República Árabe Siria', '1960': 4610712.0, '2021': 21324367.0}, {'Country Name': 'Islas Turcas y Caicos', '1960': 5604.0, '2021': 45114.0}, {'Country Name': 'Chad', '1960': 3028688.0, '2021': 17179740.0}, {'Country Name': 'Asia oriental y el Pacífico (BIRF y la AIF)', '1960': 884811163.0, '2021': 2097669023.0}, {'Country Name': 'Europa y Asia central (BIRF y la AIF)', '1960': 307910628.0, '2021': 462341222.0}, {'Country Name': 'Togo', '1960': 1651367.0, '2021': 8644829.0}, {'Country Name': 'Tailandia', '1960': 26596584.0, '2021': 71601103.0}, {'Country Name': 'Tayikistán', '1960': 2131992.0, '2021': 9750064.0}, {'Country Name': 'Turkmenistán', '1960': 1602052.0, '2021': 6341855.0}, {'Country Name': 'América Latina y el Caribe (BIRF y la AIF)', '1960': 208929539.0, '2021': 639188695.0}, {'Country Name': 'Timor-Leste', '1960': 468573.0, '2021': 1320942.0}, {'Country Name': 'Oriente Medio y Norte de África (BIRF y la AIF)', '1960': 97179656.0, '2021': 413124452.0}, {'Country Name': 'Tonga', '1960': 67428.0, '2021': 106017.0}, {'Country Name': 'Asia meridional (BIRF y la AIF)', '1960': 571283033.0, '2021': 1901911604.0}, {'Country Name': 'África al sur del Sahara (BIRF y la AIF)', '1960': 227948869.0, '2021': 1181162739.0}, {'Country Name': 'Trinidad y Tobago', '1960': 847063.0, '2021': 1525663.0}, {'Country Name': 'Túnez', '1960': 4195467.0, '2021': 12262946.0}, {'Country Name': 'Turquía', '1960': 27510980.0, '2021': 84775404.0}, {'Country Name': 'Tuvalu', '1960': 5404.0, '2021': 11204.0}, {'Country Name': 'Tanzanía', '1960': 10042458.0, '2021': 63588334.0}, {'Country Name': 'Uganda', '1960': 7617746.0, '2021': 45853778.0}, {'Country Name': 'Ucrania', '1960': 42767251.0, '2021': 43792855.0}, {'Country Name': 'Ingreso mediano alto', '1960': 1111861113.0, '2021': 2503136362.0}, {'Country Name': 'Uruguay', '1960': 2529021.0, '2021': 3426260.0}, {'Country Name': 'Estados Unidos', '1960': 180671000.0, '2021': 331893745.0}, {'Country Name': 'Uzbekistán', '1960': 8372311.0, '2021': 34915100.0}, {'Country Name': 'San Vicente y las Granadinas', '1960': 84141.0, '2021': 104332.0}, {'Country Name': 'Venezuela', '1960': 8156937.0, '2021': 28199867.0}, {'Country Name': 'Islas Vírgenes Británicas', '1960': 7850.0, '2021': 31122.0}, {'Country Name': 'Islas Vírgenes (EE.UU.)', '1960': 32500.0, '2021': 105870.0}, {'Country Name': 'Viet Nam', '1960': 32718461.0, '2021': 97468029.0}, {'Country Name': 'Vanuatu', '1960': 64608.0, '2021': 319137.0}, {'Country Name': 'Mundo', '1960': 3031564839.0, '2021': 7888408686.0}, {'Country Name': 'Samoa', '1960': 113335.0, '2021': 218764.0}, {'Country Name': 'Kosovo', '1960': 947000.0, '2021': 1786038.0}, {'Country Name': 'Yemen, Rep. del', '1960': 5542459.0, '2021': 32981641.0}, {'Country Name': 'Sudáfrica', '1960': 16520441.0, '2021': 59392255.0}, {'Country Name': 'Zambia', '1960': 3119430.0, '2021': 19473125.0}, {'Country Name': 'Zimbabwe', '1960': 3806310.0, '2021': 15993524.0}]\n"
          ]
        },
        {
          "output_type": "execute_result",
          "data": {
            "text/plain": [
              "<rx.disposable.disposable.Disposable at 0x7fb6abba1bb0>"
            ]
          },
          "metadata": {},
          "execution_count": 33
        }
      ]
    }
  ]
}
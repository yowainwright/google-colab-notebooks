{
  "nbformat": 4,
  "nbformat_minor": 0,
  "metadata": {
    "colab": {
      "provenance": [],
      "authorship_tag": "ABX9TyPYRBX7+qmqdeVDVjjIF5Ee",
      "include_colab_link": true
    },
    "kernelspec": {
      "name": "python3",
      "display_name": "Python 3"
    },
    "language_info": {
      "name": "python"
    }
  },
  "cells": [
    {
      "cell_type": "markdown",
      "metadata": {
        "id": "view-in-github",
        "colab_type": "text"
      },
      "source": [
        "<a href=\"https://colab.research.google.com/github/yowainwright/google-colab-notebooks/blob/main/csv_w_rxpy.ipynb\" target=\"_parent\"><img src=\"https://colab.research.google.com/assets/colab-badge.svg\" alt=\"Open In Colab\"/></a>"
      ]
    },
    {
      "cell_type": "code",
      "execution_count": 2,
      "metadata": {
        "colab": {
          "base_uri": "https://localhost:8080/"
        },
        "id": "0HAaUzwG39ja",
        "outputId": "bfb843e8-6d22-47fe-ed5d-bc51d44f74be"
      },
      "outputs": [
        {
          "output_type": "stream",
          "name": "stdout",
          "text": [
            "Looking in indexes: https://pypi.org/simple, https://us-python.pkg.dev/colab-wheels/public/simple/\n",
            "Collecting opendatasets\n",
            "  Downloading opendatasets-0.1.22-py3-none-any.whl (15 kB)\n",
            "Requirement already satisfied: click in /usr/local/lib/python3.8/dist-packages (from opendatasets) (7.1.2)\n",
            "Requirement already satisfied: tqdm in /usr/local/lib/python3.8/dist-packages (from opendatasets) (4.64.1)\n",
            "Requirement already satisfied: kaggle in /usr/local/lib/python3.8/dist-packages (from opendatasets) (1.5.12)\n",
            "Requirement already satisfied: requests in /usr/local/lib/python3.8/dist-packages (from kaggle->opendatasets) (2.25.1)\n",
            "Requirement already satisfied: python-slugify in /usr/local/lib/python3.8/dist-packages (from kaggle->opendatasets) (8.0.0)\n",
            "Requirement already satisfied: python-dateutil in /usr/local/lib/python3.8/dist-packages (from kaggle->opendatasets) (2.8.2)\n",
            "Requirement already satisfied: certifi in /usr/local/lib/python3.8/dist-packages (from kaggle->opendatasets) (2022.12.7)\n",
            "Requirement already satisfied: six>=1.10 in /usr/local/lib/python3.8/dist-packages (from kaggle->opendatasets) (1.15.0)\n",
            "Requirement already satisfied: urllib3 in /usr/local/lib/python3.8/dist-packages (from kaggle->opendatasets) (1.24.3)\n",
            "Requirement already satisfied: text-unidecode>=1.3 in /usr/local/lib/python3.8/dist-packages (from python-slugify->kaggle->opendatasets) (1.3)\n",
            "Requirement already satisfied: idna<3,>=2.5 in /usr/local/lib/python3.8/dist-packages (from requests->kaggle->opendatasets) (2.10)\n",
            "Requirement already satisfied: chardet<5,>=3.0.2 in /usr/local/lib/python3.8/dist-packages (from requests->kaggle->opendatasets) (4.0.0)\n",
            "Installing collected packages: opendatasets\n",
            "Successfully installed opendatasets-0.1.22\n",
            "Looking in indexes: https://pypi.org/simple, https://us-python.pkg.dev/colab-wheels/public/simple/\n",
            "Requirement already satisfied: pandas in /usr/local/lib/python3.8/dist-packages (1.3.5)\n",
            "Requirement already satisfied: python-dateutil>=2.7.3 in /usr/local/lib/python3.8/dist-packages (from pandas) (2.8.2)\n",
            "Requirement already satisfied: pytz>=2017.3 in /usr/local/lib/python3.8/dist-packages (from pandas) (2022.7.1)\n",
            "Requirement already satisfied: numpy>=1.17.3 in /usr/local/lib/python3.8/dist-packages (from pandas) (1.21.6)\n",
            "Requirement already satisfied: six>=1.5 in /usr/local/lib/python3.8/dist-packages (from python-dateutil>=2.7.3->pandas) (1.15.0)\n",
            "Looking in indexes: https://pypi.org/simple, https://us-python.pkg.dev/colab-wheels/public/simple/\n",
            "Collecting rx\n",
            "  Downloading Rx-3.2.0-py3-none-any.whl (199 kB)\n",
            "\u001b[2K     \u001b[90m━━━━━━━━━━━━━━━━━━━━━━━━━━━━━━━━━━━━━━\u001b[0m \u001b[32m199.2/199.2 KB\u001b[0m \u001b[31m12.4 MB/s\u001b[0m eta \u001b[36m0:00:00\u001b[0m\n",
            "\u001b[?25hInstalling collected packages: rx\n",
            "Successfully installed rx-3.2.0\n"
          ]
        }
      ],
      "source": [
        "!pip install opendatasets\n",
        "!pip install pandas\n",
        "!pip install rx"
      ]
    },
    {
      "cell_type": "code",
      "source": [
        "import opendatasets as od\n",
        "  \n",
        "od.download(\n",
        "    \"https://www.kaggle.com/datasets/fredericksalazar/population-world-since-1960-to-2021\")\n"
      ],
      "metadata": {
        "colab": {
          "base_uri": "https://localhost:8080/"
        },
        "id": "dmWJw1Wq4gJM",
        "outputId": "3a915d68-0fee-44c4-99ff-965c8016d5f3"
      },
      "execution_count": 3,
      "outputs": [
        {
          "output_type": "stream",
          "name": "stdout",
          "text": [
            "Please provide your Kaggle credentials to download this dataset. Learn more: http://bit.ly/kaggle-creds\n",
            "Your Kaggle username: yowainwright\n",
            "Your Kaggle Key: ··········\n",
            "Downloading population-world-since-1960-to-2021.zip to ./population-world-since-1960-to-2021\n"
          ]
        },
        {
          "output_type": "stream",
          "name": "stderr",
          "text": [
            "100%|██████████| 78.6k/78.6k [00:00<00:00, 13.9MB/s]"
          ]
        },
        {
          "output_type": "stream",
          "name": "stdout",
          "text": [
            "\n"
          ]
        },
        {
          "output_type": "stream",
          "name": "stderr",
          "text": [
            "\n"
          ]
        }
      ]
    },
    {
      "cell_type": "code",
      "source": [
        "import pandas as pd\n",
        "df = pd.read_csv('population-world-since-1960-to-2021/data_population_world.csv')\n",
        "print(df)"
      ],
      "metadata": {
        "colab": {
          "base_uri": "https://localhost:8080/"
        },
        "id": "KxcFzqVW50MA",
        "outputId": "75f70f19-47ae-42be-df3b-0558835901f5"
      },
      "execution_count": 6,
      "outputs": [
        {
          "output_type": "stream",
          "name": "stdout",
          "text": [
            "        Country Name Country Code    Indicator Name Indicator Code  \\\n",
            "0              Aruba          ABW  Población, total    SP.POP.TOTL   \n",
            "1                NaN          AFE  Población, total    SP.POP.TOTL   \n",
            "2         Afganistán          AFG  Población, total    SP.POP.TOTL   \n",
            "3                NaN          AFW  Población, total    SP.POP.TOTL   \n",
            "4             Angola          AGO  Población, total    SP.POP.TOTL   \n",
            "..               ...          ...               ...            ...   \n",
            "261           Kosovo          XKX  Población, total    SP.POP.TOTL   \n",
            "262  Yemen, Rep. del          YEM  Población, total    SP.POP.TOTL   \n",
            "263        Sudáfrica          ZAF  Población, total    SP.POP.TOTL   \n",
            "264           Zambia          ZMB  Población, total    SP.POP.TOTL   \n",
            "265         Zimbabwe          ZWE  Población, total    SP.POP.TOTL   \n",
            "\n",
            "            1960         1961         1962         1963         1964  \\\n",
            "0        54608.0      55811.0      56682.0      57475.0      58178.0   \n",
            "1    130692579.0  134169237.0  137835590.0  141630546.0  145605995.0   \n",
            "2      8622466.0    8790140.0    8969047.0    9157465.0    9355514.0   \n",
            "3     97256290.0   99314028.0  101445032.0  103667517.0  105959979.0   \n",
            "4      5357195.0    5441333.0    5521400.0    5599827.0    5673199.0   \n",
            "..           ...          ...          ...          ...          ...   \n",
            "261     947000.0     966000.0     994000.0    1022000.0    1050000.0   \n",
            "262    5542459.0    5646668.0    5753386.0    5860197.0    5973803.0   \n",
            "263   16520441.0   16989464.0   17503133.0   18042215.0   18603097.0   \n",
            "264    3119430.0    3219451.0    3323427.0    3431381.0    3542764.0   \n",
            "265    3806310.0    3925952.0    4049778.0    4177931.0    4310332.0   \n",
            "\n",
            "            1965  ...         2013         2014         2015         2016  \\\n",
            "0        58782.0  ...     102880.0     103594.0     104257.0     104874.0   \n",
            "1    149742351.0  ...  567891875.0  583650827.0  600008150.0  616377331.0   \n",
            "2      9565147.0  ...   31541209.0   32716210.0   33753499.0   34636207.0   \n",
            "3    108336203.0  ...  387204553.0  397855507.0  408690375.0  419778384.0   \n",
            "4      5736582.0  ...   26147002.0   27128337.0   28127721.0   29154746.0   \n",
            "..           ...  ...          ...          ...          ...          ...   \n",
            "261    1078000.0  ...    1818117.0    1812771.0    1788196.0    1777557.0   \n",
            "262    6097298.0  ...   26984002.0   27753304.0   28516545.0   29274002.0   \n",
            "263   19187194.0  ...   53873616.0   54729551.0   55876504.0   56422274.0   \n",
            "264    3658024.0  ...   15234976.0   15737793.0   16248230.0   16767761.0   \n",
            "265    4447149.0  ...   13555422.0   13855753.0   14154937.0   14452704.0   \n",
            "\n",
            "            2017         2018         2019         2020         2021  \\\n",
            "0       105439.0     105962.0     106442.0     106585.0     106537.0   \n",
            "1    632746296.0  649756874.0  667242712.0  685112705.0  702976832.0   \n",
            "2     35643418.0   36686784.0   37769499.0   38972230.0   40099462.0   \n",
            "3    431138704.0  442646825.0  454306063.0  466189102.0  478185907.0   \n",
            "4     30208628.0   31273533.0   32353588.0   33428486.0   34503774.0   \n",
            "..           ...          ...          ...          ...          ...   \n",
            "261    1791003.0    1797085.0    1788878.0    1790133.0    1786038.0   \n",
            "262   30034389.0   30790513.0   31546691.0   32284046.0   32981641.0   \n",
            "263   56641209.0   57339635.0   58087055.0   58801927.0   59392255.0   \n",
            "264   17298054.0   17835893.0   18380477.0   18927715.0   19473125.0   \n",
            "265   14751101.0   15052184.0   15354608.0   15669666.0   15993524.0   \n",
            "\n",
            "     Unnamed: 66  \n",
            "0            NaN  \n",
            "1            NaN  \n",
            "2            NaN  \n",
            "3            NaN  \n",
            "4            NaN  \n",
            "..           ...  \n",
            "261          NaN  \n",
            "262          NaN  \n",
            "263          NaN  \n",
            "264          NaN  \n",
            "265          NaN  \n",
            "\n",
            "[266 rows x 67 columns]\n"
          ]
        }
      ]
    }
  ]
}
{
  "nbformat": 4,
  "nbformat_minor": 0,
  "metadata": {
    "colab": {
      "provenance": [],
      "authorship_tag": "ABX9TyPgcsrhtZi4+xqqiGzJUNEI",
      "include_colab_link": true
    },
    "kernelspec": {
      "name": "python3",
      "display_name": "Python 3"
    },
    "language_info": {
      "name": "python"
    }
  },
  "cells": [
    {
      "cell_type": "markdown",
      "metadata": {
        "id": "view-in-github",
        "colab_type": "text"
      },
      "source": [
        "<a href=\"https://colab.research.google.com/github/yowainwright/google-colab-notebooks/blob/main/pyspark_tokenizer_udf.ipynb\" target=\"_parent\"><img src=\"https://colab.research.google.com/assets/colab-badge.svg\" alt=\"Open In Colab\"/></a>"
      ]
    },
    {
      "cell_type": "code",
      "execution_count": 2,
      "metadata": {
        "colab": {
          "base_uri": "https://localhost:8080/"
        },
        "id": "Jtlr6qIGMgKT",
        "outputId": "9a9b2d7a-c137-4554-c6d0-9ca24c0ec53e"
      },
      "outputs": [
        {
          "output_type": "stream",
          "name": "stdout",
          "text": [
            "Looking in indexes: https://pypi.org/simple, https://us-python.pkg.dev/colab-wheels/public/simple/\n",
            "Collecting pyspark\n",
            "  Using cached pyspark-3.4.0.tar.gz (310.8 MB)\n",
            "  Preparing metadata (setup.py) ... \u001b[?25l\u001b[?25hdone\n",
            "Requirement already satisfied: py4j==0.10.9.7 in /usr/local/lib/python3.10/dist-packages (from pyspark) (0.10.9.7)\n",
            "Building wheels for collected packages: pyspark\n",
            "  Building wheel for pyspark (setup.py) ... \u001b[?25l\u001b[?25hdone\n",
            "  Created wheel for pyspark: filename=pyspark-3.4.0-py2.py3-none-any.whl size=311317145 sha256=6369509dfa2693c443881ab346787e169bfd9fe525de214b206586d7b323c7ea\n",
            "  Stored in directory: /root/.cache/pip/wheels/7b/1b/4b/3363a1d04368e7ff0d408e57ff57966fcdf00583774e761327\n",
            "Successfully built pyspark\n",
            "Installing collected packages: pyspark\n",
            "Successfully installed pyspark-3.4.0\n",
            "Looking in indexes: https://pypi.org/simple, https://us-python.pkg.dev/colab-wheels/public/simple/\n",
            "Collecting faker\n",
            "  Downloading Faker-18.6.0-py3-none-any.whl (1.7 MB)\n",
            "\u001b[2K     \u001b[90m━━━━━━━━━━━━━━━━━━━━━━━━━━━━━━━━━━━━━━━━\u001b[0m \u001b[32m1.7/1.7 MB\u001b[0m \u001b[31m18.3 MB/s\u001b[0m eta \u001b[36m0:00:00\u001b[0m\n",
            "\u001b[?25hRequirement already satisfied: python-dateutil>=2.4 in /usr/local/lib/python3.10/dist-packages (from faker) (2.8.2)\n",
            "Requirement already satisfied: six>=1.5 in /usr/local/lib/python3.10/dist-packages (from python-dateutil>=2.4->faker) (1.16.0)\n",
            "Installing collected packages: faker\n",
            "Successfully installed faker-18.6.0\n"
          ]
        }
      ],
      "source": [
        "!pip install pyspark\n",
        "!pip install faker"
      ]
    },
    {
      "cell_type": "code",
      "source": [
        "#{ 1. generate a dataframe with random data for tokenizer udf testing }\n",
        "\n",
        "from faker import Faker\n",
        "from pyspark.sql import SparkSession\n",
        "from pyspark.sql.types import StructType, StructField, StringType, IntegerType\n",
        "\n",
        "# Initialize the Spark session\n",
        "spark = SparkSession.builder \\\n",
        "    .appName(\"FakeTokenizerUDF\") \\\n",
        "    .getOrCreate()\n",
        "\n",
        "# Define the schema for the DataFrame\n",
        "schema = StructType([\n",
        "    StructField(\"user_id\", IntegerType(), True),\n",
        "    StructField(\"name\", StringType(), True),\n",
        "    StructField(\"email\", StringType(), True),\n",
        "    StructField(\"address\", StringType(), True),\n",
        "])\n",
        "\n",
        "# generate fake data\n",
        "fake = Faker()\n",
        "data = [(i, fake.name(), fake.email(), fake.address().replace('\\n', ', ')) for i in range(1, 26)]\n",
        "\n",
        "# Create a DataFrame using the fake data and schema\n",
        "fake_users_df = spark.createDataFrame(data, schema)\n",
        "\n",
        "# Show the DataFrame\n",
        "fake_users_df.show()"
      ],
      "metadata": {
        "colab": {
          "base_uri": "https://localhost:8080/"
        },
        "id": "OOwVlsxdMp5w",
        "outputId": "3d97ea8d-5052-431e-c402-2e2d4202f021"
      },
      "execution_count": 3,
      "outputs": [
        {
          "output_type": "stream",
          "name": "stdout",
          "text": [
            "+-------+--------------------+--------------------+--------------------+\n",
            "|user_id|                name|               email|             address|\n",
            "+-------+--------------------+--------------------+--------------------+\n",
            "|      1|  Theresa Richardson| vguzman@example.net|Unit 0961 Box 276...|\n",
            "|      2|       Steven Porter| laura08@example.org|593 Tracy Station...|\n",
            "|      3|        Lisa Johnson|humphreywilliam@e...|3746 Jessica Stre...|\n",
            "|      4|       Heather Welch|hortonarthur@exam...|55924 Frazier Str...|\n",
            "|      5|      Ashley Sampson|cantuwillie@examp...|96930 Martin Knol...|\n",
            "|      6|      Susan Thornton| hwilson@example.org|7176 James Mill, ...|\n",
            "|      7|    Elizabeth Patton|malonetravis@exam...|25995 Michael Pla...|\n",
            "|      8|       Willie Nelson|emilythompson@exa...|3673 Debra Coves,...|\n",
            "|      9|   Anthony Frederick|darrellcole@examp...|271 Logan Course,...|\n",
            "|     10|       Michael Giles|barbaracuevas@exa...|25482 Myers Pine,...|\n",
            "|     11|     Cory Valenzuela|cooperbecky@examp...|603 Johnson Crest...|\n",
            "|     12|        Ronald Green| kevin82@example.net|6485 Lewis Statio...|\n",
            "|     13|   Nicholas Hamilton|priscilla57@examp...|282 Burns Turnpik...|\n",
            "|     14|        Jordan Grant|donaldbowers@exam...|6092 Beth Valleys...|\n",
            "|     15|Dr. Michelle Chan MD| julia77@example.com|655 Stacy Summit,...|\n",
            "|     16|        Sharon Scott|fryesteven@exampl...|15906 Richard Tra...|\n",
            "|     17|        Anthony Hess|cameron28@example...|22852 Nicole Cove...|\n",
            "|     18|        Sally Murphy|crossteresa@examp...|6925 Joy Freeway,...|\n",
            "|     19|          Kevin Wade|asanders@example.net|02080 Jeremiah Co...|\n",
            "|     20|   Dr. Susan Sanchez|philipfarrell@exa...|99653 Wright Fork...|\n",
            "+-------+--------------------+--------------------+--------------------+\n",
            "only showing top 20 rows\n",
            "\n"
          ]
        }
      ]
    },
    {
      "cell_type": "code",
      "source": [
        "#{ 2. create a udf to reverse the order of a string }\n",
        "\n",
        "from pyspark.sql import SparkSession\n",
        "from pyspark.sql.functions import udf, col\n",
        "from pyspark.sql.types import StringType\n",
        "\n",
        "# Define the UDF to reverse a string\n",
        "@udf(returnType=StringType())\n",
        "def reverse_string(s):\n",
        "    return s[::-1]\n",
        "\n",
        "\n",
        "# Register the UDF to the spark session\n",
        "spark.udf.register(\"reverse_string\", reverse_string)\n",
        "\n",
        "reversed_df = fake_users_df.withColumn(\"name\", reverse_string(col(\"name\")))\n",
        "\n",
        "\n",
        "# Show the original and reversed names\n",
        "reversed_df.show()"
      ],
      "metadata": {
        "colab": {
          "base_uri": "https://localhost:8080/"
        },
        "id": "G8meymoxOG0b",
        "outputId": "b6a8358f-7e25-4c35-823d-ef45f8a6f0c5"
      },
      "execution_count": 4,
      "outputs": [
        {
          "output_type": "stream",
          "name": "stdout",
          "text": [
            "+-------+--------------------+--------------------+--------------------+\n",
            "|user_id|                name|               email|             address|\n",
            "+-------+--------------------+--------------------+--------------------+\n",
            "|      1|  nosdrahciR aserehT| vguzman@example.net|Unit 0961 Box 276...|\n",
            "|      2|       retroP nevetS| laura08@example.org|593 Tracy Station...|\n",
            "|      3|        nosnhoJ asiL|humphreywilliam@e...|3746 Jessica Stre...|\n",
            "|      4|       hcleW rehtaeH|hortonarthur@exam...|55924 Frazier Str...|\n",
            "|      5|      nospmaS yelhsA|cantuwillie@examp...|96930 Martin Knol...|\n",
            "|      6|      notnrohT nasuS| hwilson@example.org|7176 James Mill, ...|\n",
            "|      7|    nottaP htebazilE|malonetravis@exam...|25995 Michael Pla...|\n",
            "|      8|       nosleN eilliW|emilythompson@exa...|3673 Debra Coves,...|\n",
            "|      9|   kcirederF ynohtnA|darrellcole@examp...|271 Logan Course,...|\n",
            "|     10|       seliG leahciM|barbaracuevas@exa...|25482 Myers Pine,...|\n",
            "|     11|     aleuznelaV yroC|cooperbecky@examp...|603 Johnson Crest...|\n",
            "|     12|        neerG dlanoR| kevin82@example.net|6485 Lewis Statio...|\n",
            "|     13|   notlimaH salohciN|priscilla57@examp...|282 Burns Turnpik...|\n",
            "|     14|        tnarG nadroJ|donaldbowers@exam...|6092 Beth Valleys...|\n",
            "|     15|DM nahC ellehciM .rD| julia77@example.com|655 Stacy Summit,...|\n",
            "|     16|        ttocS norahS|fryesteven@exampl...|15906 Richard Tra...|\n",
            "|     17|        sseH ynohtnA|cameron28@example...|22852 Nicole Cove...|\n",
            "|     18|        yhpruM yllaS|crossteresa@examp...|6925 Joy Freeway,...|\n",
            "|     19|          edaW niveK|asanders@example.net|02080 Jeremiah Co...|\n",
            "|     20|   zehcnaS nasuS .rD|philipfarrell@exa...|99653 Wright Fork...|\n",
            "+-------+--------------------+--------------------+--------------------+\n",
            "only showing top 20 rows\n",
            "\n"
          ]
        }
      ]
    },
    {
      "cell_type": "code",
      "source": [
        "import base64\n",
        "\n",
        "#{ 3. a mock tokenize/detokenize sdk }\n",
        "\n",
        "# This class doesn't have to be an SDK but that make it more controllable\n",
        "\n",
        "class Tokenizer:\n",
        "    def __init__(self, bearer_token):\n",
        "        self.bearer_token = bearer_token\n",
        "\n",
        "    def _xor_cipher(self, text, key):\n",
        "        return ''.join(chr(ord(c) ^ ord(k)) for c, k in zip(text, key * (len(text) // len(key) + 1)))\n",
        "\n",
        "    def tokenize(self, plaintext):\n",
        "        encrypted_text = self._xor_cipher(plaintext, self.bearer_token)\n",
        "        return base64.urlsafe_b64encode(encrypted_text.encode()).decode()\n",
        "\n",
        "    def detokenize(self, encrypted_text):\n",
        "        decoded_text = base64.urlsafe_b64decode(encrypted_text.encode()).decode()\n",
        "        decrypted_text = self._xor_cipher(decoded_text, self.bearer_token)\n",
        "        return decrypted_text\n",
        "\n",
        "# Example usage:\n",
        "bearer_token = \"your_bearer_token_here\"\n",
        "text_to_tokenize = \"This is a sample text.\"\n",
        "\n",
        "tokenizer = Tokenizer(bearer_token)\n",
        "tokenized_text = tokenizer.tokenize(text_to_tokenize)\n",
        "print(f\"Tokenized text: {tokenized_text}\")\n",
        "\n",
        "detokenized_text = tokenizer.detokenize(tokenized_text)\n",
        "print(f\"Detokenized text: {detokenized_text}\")"
      ],
      "metadata": {
        "colab": {
          "base_uri": "https://localhost:8080/"
        },
        "id": "0rpwYX15OQOl",
        "outputId": "32ba4f5b-f4e7-40be-de4c-4962f97a5c8a"
      },
      "execution_count": 5,
      "outputs": [
        {
          "output_type": "stream",
          "name": "stdout",
          "text": [
            "Tokenized text: LQccAX8LFkETRQE-GR8HAE4rDR0GSw==\n",
            "Detokenized text: This is a sample text.\n"
          ]
        }
      ]
    },
    {
      "cell_type": "code",
      "source": [
        "from pyspark.sql.functions import udf\n",
        "from pyspark.sql.types import StringType\n",
        "\n",
        "#{ 4. create function wrappers of the tokenizer class }\n",
        "\n",
        "def tokenize(s):\n",
        "    return tokenizer.tokenize(s)\n",
        "\n",
        "def detokenize(s):\n",
        "    return tokenizer.detokenize(s)\n",
        "    \n",
        "tokenize_udf = udf(tokenize, StringType())\n",
        "detokenize_udf = udf(detokenize, StringType())"
      ],
      "metadata": {
        "id": "UyUqBoEhOYrs"
      },
      "execution_count": 6,
      "outputs": []
    },
    {
      "cell_type": "code",
      "source": [
        "from pyspark.sql.functions import col\n",
        "\n",
        "#{ 5. tokenize emails }\n",
        "\n",
        "tokenized_email_df = fake_users_df.withColumn(\"email\", tokenize_udf(col(\"email\")))\n",
        "tokenized_email_df.show()"
      ],
      "metadata": {
        "colab": {
          "base_uri": "https://localhost:8080/"
        },
        "id": "6R75zQaXOkBh",
        "outputId": "f88cd896-6241-481f-b483-152c044aa072"
      },
      "execution_count": 7,
      "outputs": [
        {
          "output_type": "stream",
          "name": "stdout",
          "text": [
            "+-------+--------------------+--------------------+--------------------+\n",
            "|user_id|                name|               email|             address|\n",
            "+-------+--------------------+--------------------+--------------------+\n",
            "|      1|  Theresa Richardson|DwgACDIDCyEXHRMyB...|Unit 0961 Box 276...|\n",
            "|      2|       Steven Porter|FQ4AAD5SXSEXHRMyB...|593 Tracy Station...|\n",
            "|      3|        Lisa Johnson|ERoYAjcQABgFDB4zH...|3746 Jessica Stre...|\n",
            "|      4|       Heather Welch|EQAHBjAMBBMGDQctN...|55924 Frazier Str...|\n",
            "|      5|      Ashley Sampson|Gg4bBioVDA0eDBcfE...|96930 Martin Knol...|\n",
            "|      6|      Susan Thornton|ERgcHiwNCyEXHRMyB...|7176 James Mill, ...|\n",
            "|      7|    Elizabeth Patton|FA4ZHTEHERMTExssN...|25995 Michael Pla...|\n",
            "|      8|       Willie Nelson|HAIcHiYWDQ4fFQEwG...|3673 Debra Coves,...|\n",
            "|      9|   Anthony Frederick|HQ4HADoOCQIdCRcfE...|271 Logan Course,...|\n",
            "|     10|       Michael Giles|Gw4HED4QBAIHAAQ-B...|25482 Myers Pine,...|\n",
            "|     11|     Cory Valenzuela|GgAaAjoQBwQRDgsfE...|603 Johnson Crest...|\n",
            "|     12|        Ronald Green|EgoDGzFaVyEXHRMyB...|6485 Lewis Statio...|\n",
            "|     13|   Nicholas Hamilton|CR0cATwLCQ0TUEUfE...|282 Burns Turnpik...|\n",
            "|     14|        Jordan Grant|HQAbEzMGBw4FAAAsN...|6092 Beth Valleys...|\n",
            "|     15|Dr. Michelle Chan MD|ExoZGz5VUiEXHRMyB...|655 Stacy Summit,...|\n",
            "|     16|        Sharon Scott|Hx0MFywWABcXCzI6D...|15906 Richard Tra...|\n",
            "|     17|        Anthony Hess|Gg4YFy0NC1NKJRcnF...|22852 Nicole Cove...|\n",
            "|     18|        Sally Murphy|Gh0aASwWABMXFhMfE...|6925 Joy Freeway,...|\n",
            "|     19|          Kevin Wade|GBwUHDsHFxIyAAo-G...|02080 Jeremiah Co...|\n",
            "|     20|   Dr. Susan Sanchez|CQccHjYSAwAAFxczG...|99653 Wright Fork...|\n",
            "+-------+--------------------+--------------------+--------------------+\n",
            "only showing top 20 rows\n",
            "\n"
          ]
        }
      ]
    },
    {
      "cell_type": "code",
      "source": [
        "#{ 6. detokenize emails }\n",
        "\n",
        "detokenized_email_df = tokenized_email_df.withColumn(\"email\", detokenize_udf(col(\"email\")))\n",
        "detokenized_email_df.show()"
      ],
      "metadata": {
        "colab": {
          "base_uri": "https://localhost:8080/"
        },
        "id": "9el6dBs3OqdV",
        "outputId": "8e33f978-59ef-4f99-a79b-5a06b6721161"
      },
      "execution_count": 8,
      "outputs": [
        {
          "output_type": "stream",
          "name": "stdout",
          "text": [
            "+-------+--------------------+--------------------+--------------------+\n",
            "|user_id|                name|               email|             address|\n",
            "+-------+--------------------+--------------------+--------------------+\n",
            "|      1|  Theresa Richardson| vguzman@example.net|Unit 0961 Box 276...|\n",
            "|      2|       Steven Porter| laura08@example.org|593 Tracy Station...|\n",
            "|      3|        Lisa Johnson|humphreywilliam@e...|3746 Jessica Stre...|\n",
            "|      4|       Heather Welch|hortonarthur@exam...|55924 Frazier Str...|\n",
            "|      5|      Ashley Sampson|cantuwillie@examp...|96930 Martin Knol...|\n",
            "|      6|      Susan Thornton| hwilson@example.org|7176 James Mill, ...|\n",
            "|      7|    Elizabeth Patton|malonetravis@exam...|25995 Michael Pla...|\n",
            "|      8|       Willie Nelson|emilythompson@exa...|3673 Debra Coves,...|\n",
            "|      9|   Anthony Frederick|darrellcole@examp...|271 Logan Course,...|\n",
            "|     10|       Michael Giles|barbaracuevas@exa...|25482 Myers Pine,...|\n",
            "|     11|     Cory Valenzuela|cooperbecky@examp...|603 Johnson Crest...|\n",
            "|     12|        Ronald Green| kevin82@example.net|6485 Lewis Statio...|\n",
            "|     13|   Nicholas Hamilton|priscilla57@examp...|282 Burns Turnpik...|\n",
            "|     14|        Jordan Grant|donaldbowers@exam...|6092 Beth Valleys...|\n",
            "|     15|Dr. Michelle Chan MD| julia77@example.com|655 Stacy Summit,...|\n",
            "|     16|        Sharon Scott|fryesteven@exampl...|15906 Richard Tra...|\n",
            "|     17|        Anthony Hess|cameron28@example...|22852 Nicole Cove...|\n",
            "|     18|        Sally Murphy|crossteresa@examp...|6925 Joy Freeway,...|\n",
            "|     19|          Kevin Wade|asanders@example.net|02080 Jeremiah Co...|\n",
            "|     20|   Dr. Susan Sanchez|philipfarrell@exa...|99653 Wright Fork...|\n",
            "+-------+--------------------+--------------------+--------------------+\n",
            "only showing top 20 rows\n",
            "\n"
          ]
        }
      ]
    }
  ]
}
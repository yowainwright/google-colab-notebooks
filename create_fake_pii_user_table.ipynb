{
  "nbformat": 4,
  "nbformat_minor": 0,
  "metadata": {
    "colab": {
      "provenance": [],
      "authorship_tag": "ABX9TyO7DTpDrtNZqeY3sBpYaWjb",
      "include_colab_link": true
    },
    "kernelspec": {
      "name": "python3",
      "display_name": "Python 3"
    },
    "language_info": {
      "name": "python"
    }
  },
  "cells": [
    {
      "cell_type": "markdown",
      "metadata": {
        "id": "view-in-github",
        "colab_type": "text"
      },
      "source": [
        "<a href=\"https://colab.research.google.com/github/yowainwright/my-first-colab-notebooks/blob/main/create_fake_pii_user_table.ipynb\" target=\"_parent\"><img src=\"https://colab.research.google.com/assets/colab-badge.svg\" alt=\"Open In Colab\"/></a>"
      ]
    },
    {
      "cell_type": "code",
      "execution_count": 7,
      "metadata": {
        "colab": {
          "base_uri": "https://localhost:8080/"
        },
        "id": "cpDKeOTDUn7-",
        "outputId": "ad0c7fe3-0aff-4165-c89c-ec7e9c6363f8"
      },
      "outputs": [
        {
          "output_type": "stream",
          "name": "stdout",
          "text": [
            "Looking in indexes: https://pypi.org/simple, https://us-python.pkg.dev/colab-wheels/public/simple/\n",
            "Requirement already satisfied: pyspark in /usr/local/lib/python3.7/dist-packages (3.3.1)\n",
            "Requirement already satisfied: py4j==0.10.9.5 in /usr/local/lib/python3.7/dist-packages (from pyspark) (0.10.9.5)\n",
            "Looking in indexes: https://pypi.org/simple, https://us-python.pkg.dev/colab-wheels/public/simple/\n",
            "Requirement already satisfied: jupytext in /usr/local/lib/python3.7/dist-packages (1.14.1)\n",
            "Requirement already satisfied: nbformat in /usr/local/lib/python3.7/dist-packages (from jupytext) (5.7.0)\n",
            "Requirement already satisfied: toml in /usr/local/lib/python3.7/dist-packages (from jupytext) (0.10.2)\n",
            "Requirement already satisfied: mdit-py-plugins in /usr/local/lib/python3.7/dist-packages (from jupytext) (0.3.1)\n",
            "Requirement already satisfied: pyyaml in /usr/local/lib/python3.7/dist-packages (from jupytext) (6.0)\n",
            "Requirement already satisfied: markdown-it-py<3.0.0,>=1.0.0 in /usr/local/lib/python3.7/dist-packages (from jupytext) (2.1.0)\n",
            "Requirement already satisfied: mdurl~=0.1 in /usr/local/lib/python3.7/dist-packages (from markdown-it-py<3.0.0,>=1.0.0->jupytext) (0.1.2)\n",
            "Requirement already satisfied: typing_extensions>=3.7.4 in /usr/local/lib/python3.7/dist-packages (from markdown-it-py<3.0.0,>=1.0.0->jupytext) (4.1.1)\n",
            "Requirement already satisfied: jupyter-core in /usr/local/lib/python3.7/dist-packages (from nbformat->jupytext) (4.11.2)\n",
            "Requirement already satisfied: fastjsonschema in /usr/local/lib/python3.7/dist-packages (from nbformat->jupytext) (2.16.2)\n",
            "Requirement already satisfied: importlib-metadata>=3.6 in /usr/local/lib/python3.7/dist-packages (from nbformat->jupytext) (4.13.0)\n",
            "Requirement already satisfied: jsonschema>=2.6 in /usr/local/lib/python3.7/dist-packages (from nbformat->jupytext) (4.3.3)\n",
            "Requirement already satisfied: traitlets>=5.1 in /usr/local/lib/python3.7/dist-packages (from nbformat->jupytext) (5.1.1)\n",
            "Requirement already satisfied: zipp>=0.5 in /usr/local/lib/python3.7/dist-packages (from importlib-metadata>=3.6->nbformat->jupytext) (3.10.0)\n",
            "Requirement already satisfied: attrs>=17.4.0 in /usr/local/lib/python3.7/dist-packages (from jsonschema>=2.6->nbformat->jupytext) (22.1.0)\n",
            "Requirement already satisfied: pyrsistent!=0.17.0,!=0.17.1,!=0.17.2,>=0.14.0 in /usr/local/lib/python3.7/dist-packages (from jsonschema>=2.6->nbformat->jupytext) (0.19.2)\n",
            "Requirement already satisfied: importlib-resources>=1.4.0 in /usr/local/lib/python3.7/dist-packages (from jsonschema>=2.6->nbformat->jupytext) (5.10.0)\n",
            "Looking in indexes: https://pypi.org/simple, https://us-python.pkg.dev/colab-wheels/public/simple/\n",
            "Collecting Faker\n",
            "  Downloading Faker-15.3.3-py3-none-any.whl (1.6 MB)\n",
            "\u001b[K     |████████████████████████████████| 1.6 MB 7.4 MB/s \n",
            "\u001b[?25hRequirement already satisfied: python-dateutil>=2.4 in /usr/local/lib/python3.7/dist-packages (from Faker) (2.8.2)\n",
            "Requirement already satisfied: typing-extensions>=3.10.0.1 in /usr/local/lib/python3.7/dist-packages (from Faker) (4.1.1)\n",
            "Requirement already satisfied: six>=1.5 in /usr/local/lib/python3.7/dist-packages (from python-dateutil>=2.4->Faker) (1.15.0)\n",
            "Installing collected packages: Faker\n",
            "Successfully installed Faker-15.3.3\n"
          ]
        }
      ],
      "source": [
        "# Install deps to get this going 🔥\n",
        "!pip install pyspark\n",
        "!pip install -q findspark\n",
        "!pip install jupytext\n",
        "!pip install Faker"
      ]
    },
    {
      "cell_type": "code",
      "source": [
        "# create dummy data based on pii schema\n",
        "from google.colab import drive\n",
        "from faker import Faker\n",
        "from faker.providers import person\n",
        "\n",
        "import random\n",
        "import uuid\n",
        "import json\n",
        "\n",
        "def create_random_uuid():\n",
        "  rnd = random.Random()\n",
        "  rnd.seed(123) # NOTE: Of course don't use a static seed in production\n",
        "\n",
        "  random_uuid = uuid.UUID(int=rnd.getrandbits(128), version=4)\n",
        "  return str(random_uuid)\n",
        "\n",
        "# TODO match zeppelin spec\n",
        "def create_random_pii(randomPersonCount=100):\n",
        "  personsWithPii = []\n",
        "  for i in range(0, randomPersonCount): \n",
        "    row = {}\n",
        "    rowCount = i + 1\n",
        "    row['index'] = rowCount\n",
        "    row['anonymous_id'] = create_random_uuid()\n",
        "    row['user_id'] = create_random_uuid()\n",
        "    personsWithPii.append(row)\n",
        "  return personsWithPii\n",
        "\n",
        "fakePersonsWithPii = create_random_pii()\n",
        "with open('fake.json', 'w') as fp:\n",
        "        json.dump(fakePersonsWithPii, fp)\n",
        "\n",
        "print(fakePersonsWithPii)  \n",
        "\n"
      ],
      "metadata": {
        "colab": {
          "base_uri": "https://localhost:8080/"
        },
        "id": "h5RhXCJ2gDaj",
        "outputId": "10f0bc0a-68a1-4226-93c8-df6f40fce3d4"
      },
      "execution_count": 25,
      "outputs": [
        {
          "output_type": "stream",
          "name": "stdout",
          "text": [
            "[{'index': 1, 'anonymous_id': 'c4da537c-1651-4dae-8486-7db30d67b366', 'user_id': 'c4da537c-1651-4dae-8486-7db30d67b366'}, {'index': 2, 'anonymous_id': 'c4da537c-1651-4dae-8486-7db30d67b366', 'user_id': 'c4da537c-1651-4dae-8486-7db30d67b366'}, {'index': 3, 'anonymous_id': 'c4da537c-1651-4dae-8486-7db30d67b366', 'user_id': 'c4da537c-1651-4dae-8486-7db30d67b366'}, {'index': 4, 'anonymous_id': 'c4da537c-1651-4dae-8486-7db30d67b366', 'user_id': 'c4da537c-1651-4dae-8486-7db30d67b366'}, {'index': 5, 'anonymous_id': 'c4da537c-1651-4dae-8486-7db30d67b366', 'user_id': 'c4da537c-1651-4dae-8486-7db30d67b366'}, {'index': 6, 'anonymous_id': 'c4da537c-1651-4dae-8486-7db30d67b366', 'user_id': 'c4da537c-1651-4dae-8486-7db30d67b366'}, {'index': 7, 'anonymous_id': 'c4da537c-1651-4dae-8486-7db30d67b366', 'user_id': 'c4da537c-1651-4dae-8486-7db30d67b366'}, {'index': 8, 'anonymous_id': 'c4da537c-1651-4dae-8486-7db30d67b366', 'user_id': 'c4da537c-1651-4dae-8486-7db30d67b366'}, {'index': 9, 'anonymous_id': 'c4da537c-1651-4dae-8486-7db30d67b366', 'user_id': 'c4da537c-1651-4dae-8486-7db30d67b366'}, {'index': 10, 'anonymous_id': 'c4da537c-1651-4dae-8486-7db30d67b366', 'user_id': 'c4da537c-1651-4dae-8486-7db30d67b366'}, {'index': 11, 'anonymous_id': 'c4da537c-1651-4dae-8486-7db30d67b366', 'user_id': 'c4da537c-1651-4dae-8486-7db30d67b366'}, {'index': 12, 'anonymous_id': 'c4da537c-1651-4dae-8486-7db30d67b366', 'user_id': 'c4da537c-1651-4dae-8486-7db30d67b366'}, {'index': 13, 'anonymous_id': 'c4da537c-1651-4dae-8486-7db30d67b366', 'user_id': 'c4da537c-1651-4dae-8486-7db30d67b366'}, {'index': 14, 'anonymous_id': 'c4da537c-1651-4dae-8486-7db30d67b366', 'user_id': 'c4da537c-1651-4dae-8486-7db30d67b366'}, {'index': 15, 'anonymous_id': 'c4da537c-1651-4dae-8486-7db30d67b366', 'user_id': 'c4da537c-1651-4dae-8486-7db30d67b366'}, {'index': 16, 'anonymous_id': 'c4da537c-1651-4dae-8486-7db30d67b366', 'user_id': 'c4da537c-1651-4dae-8486-7db30d67b366'}, {'index': 17, 'anonymous_id': 'c4da537c-1651-4dae-8486-7db30d67b366', 'user_id': 'c4da537c-1651-4dae-8486-7db30d67b366'}, {'index': 18, 'anonymous_id': 'c4da537c-1651-4dae-8486-7db30d67b366', 'user_id': 'c4da537c-1651-4dae-8486-7db30d67b366'}, {'index': 19, 'anonymous_id': 'c4da537c-1651-4dae-8486-7db30d67b366', 'user_id': 'c4da537c-1651-4dae-8486-7db30d67b366'}, {'index': 20, 'anonymous_id': 'c4da537c-1651-4dae-8486-7db30d67b366', 'user_id': 'c4da537c-1651-4dae-8486-7db30d67b366'}, {'index': 21, 'anonymous_id': 'c4da537c-1651-4dae-8486-7db30d67b366', 'user_id': 'c4da537c-1651-4dae-8486-7db30d67b366'}, {'index': 22, 'anonymous_id': 'c4da537c-1651-4dae-8486-7db30d67b366', 'user_id': 'c4da537c-1651-4dae-8486-7db30d67b366'}, {'index': 23, 'anonymous_id': 'c4da537c-1651-4dae-8486-7db30d67b366', 'user_id': 'c4da537c-1651-4dae-8486-7db30d67b366'}, {'index': 24, 'anonymous_id': 'c4da537c-1651-4dae-8486-7db30d67b366', 'user_id': 'c4da537c-1651-4dae-8486-7db30d67b366'}, {'index': 25, 'anonymous_id': 'c4da537c-1651-4dae-8486-7db30d67b366', 'user_id': 'c4da537c-1651-4dae-8486-7db30d67b366'}, {'index': 26, 'anonymous_id': 'c4da537c-1651-4dae-8486-7db30d67b366', 'user_id': 'c4da537c-1651-4dae-8486-7db30d67b366'}, {'index': 27, 'anonymous_id': 'c4da537c-1651-4dae-8486-7db30d67b366', 'user_id': 'c4da537c-1651-4dae-8486-7db30d67b366'}, {'index': 28, 'anonymous_id': 'c4da537c-1651-4dae-8486-7db30d67b366', 'user_id': 'c4da537c-1651-4dae-8486-7db30d67b366'}, {'index': 29, 'anonymous_id': 'c4da537c-1651-4dae-8486-7db30d67b366', 'user_id': 'c4da537c-1651-4dae-8486-7db30d67b366'}, {'index': 30, 'anonymous_id': 'c4da537c-1651-4dae-8486-7db30d67b366', 'user_id': 'c4da537c-1651-4dae-8486-7db30d67b366'}, {'index': 31, 'anonymous_id': 'c4da537c-1651-4dae-8486-7db30d67b366', 'user_id': 'c4da537c-1651-4dae-8486-7db30d67b366'}, {'index': 32, 'anonymous_id': 'c4da537c-1651-4dae-8486-7db30d67b366', 'user_id': 'c4da537c-1651-4dae-8486-7db30d67b366'}, {'index': 33, 'anonymous_id': 'c4da537c-1651-4dae-8486-7db30d67b366', 'user_id': 'c4da537c-1651-4dae-8486-7db30d67b366'}, {'index': 34, 'anonymous_id': 'c4da537c-1651-4dae-8486-7db30d67b366', 'user_id': 'c4da537c-1651-4dae-8486-7db30d67b366'}, {'index': 35, 'anonymous_id': 'c4da537c-1651-4dae-8486-7db30d67b366', 'user_id': 'c4da537c-1651-4dae-8486-7db30d67b366'}, {'index': 36, 'anonymous_id': 'c4da537c-1651-4dae-8486-7db30d67b366', 'user_id': 'c4da537c-1651-4dae-8486-7db30d67b366'}, {'index': 37, 'anonymous_id': 'c4da537c-1651-4dae-8486-7db30d67b366', 'user_id': 'c4da537c-1651-4dae-8486-7db30d67b366'}, {'index': 38, 'anonymous_id': 'c4da537c-1651-4dae-8486-7db30d67b366', 'user_id': 'c4da537c-1651-4dae-8486-7db30d67b366'}, {'index': 39, 'anonymous_id': 'c4da537c-1651-4dae-8486-7db30d67b366', 'user_id': 'c4da537c-1651-4dae-8486-7db30d67b366'}, {'index': 40, 'anonymous_id': 'c4da537c-1651-4dae-8486-7db30d67b366', 'user_id': 'c4da537c-1651-4dae-8486-7db30d67b366'}, {'index': 41, 'anonymous_id': 'c4da537c-1651-4dae-8486-7db30d67b366', 'user_id': 'c4da537c-1651-4dae-8486-7db30d67b366'}, {'index': 42, 'anonymous_id': 'c4da537c-1651-4dae-8486-7db30d67b366', 'user_id': 'c4da537c-1651-4dae-8486-7db30d67b366'}, {'index': 43, 'anonymous_id': 'c4da537c-1651-4dae-8486-7db30d67b366', 'user_id': 'c4da537c-1651-4dae-8486-7db30d67b366'}, {'index': 44, 'anonymous_id': 'c4da537c-1651-4dae-8486-7db30d67b366', 'user_id': 'c4da537c-1651-4dae-8486-7db30d67b366'}, {'index': 45, 'anonymous_id': 'c4da537c-1651-4dae-8486-7db30d67b366', 'user_id': 'c4da537c-1651-4dae-8486-7db30d67b366'}, {'index': 46, 'anonymous_id': 'c4da537c-1651-4dae-8486-7db30d67b366', 'user_id': 'c4da537c-1651-4dae-8486-7db30d67b366'}, {'index': 47, 'anonymous_id': 'c4da537c-1651-4dae-8486-7db30d67b366', 'user_id': 'c4da537c-1651-4dae-8486-7db30d67b366'}, {'index': 48, 'anonymous_id': 'c4da537c-1651-4dae-8486-7db30d67b366', 'user_id': 'c4da537c-1651-4dae-8486-7db30d67b366'}, {'index': 49, 'anonymous_id': 'c4da537c-1651-4dae-8486-7db30d67b366', 'user_id': 'c4da537c-1651-4dae-8486-7db30d67b366'}, {'index': 50, 'anonymous_id': 'c4da537c-1651-4dae-8486-7db30d67b366', 'user_id': 'c4da537c-1651-4dae-8486-7db30d67b366'}, {'index': 51, 'anonymous_id': 'c4da537c-1651-4dae-8486-7db30d67b366', 'user_id': 'c4da537c-1651-4dae-8486-7db30d67b366'}, {'index': 52, 'anonymous_id': 'c4da537c-1651-4dae-8486-7db30d67b366', 'user_id': 'c4da537c-1651-4dae-8486-7db30d67b366'}, {'index': 53, 'anonymous_id': 'c4da537c-1651-4dae-8486-7db30d67b366', 'user_id': 'c4da537c-1651-4dae-8486-7db30d67b366'}, {'index': 54, 'anonymous_id': 'c4da537c-1651-4dae-8486-7db30d67b366', 'user_id': 'c4da537c-1651-4dae-8486-7db30d67b366'}, {'index': 55, 'anonymous_id': 'c4da537c-1651-4dae-8486-7db30d67b366', 'user_id': 'c4da537c-1651-4dae-8486-7db30d67b366'}, {'index': 56, 'anonymous_id': 'c4da537c-1651-4dae-8486-7db30d67b366', 'user_id': 'c4da537c-1651-4dae-8486-7db30d67b366'}, {'index': 57, 'anonymous_id': 'c4da537c-1651-4dae-8486-7db30d67b366', 'user_id': 'c4da537c-1651-4dae-8486-7db30d67b366'}, {'index': 58, 'anonymous_id': 'c4da537c-1651-4dae-8486-7db30d67b366', 'user_id': 'c4da537c-1651-4dae-8486-7db30d67b366'}, {'index': 59, 'anonymous_id': 'c4da537c-1651-4dae-8486-7db30d67b366', 'user_id': 'c4da537c-1651-4dae-8486-7db30d67b366'}, {'index': 60, 'anonymous_id': 'c4da537c-1651-4dae-8486-7db30d67b366', 'user_id': 'c4da537c-1651-4dae-8486-7db30d67b366'}, {'index': 61, 'anonymous_id': 'c4da537c-1651-4dae-8486-7db30d67b366', 'user_id': 'c4da537c-1651-4dae-8486-7db30d67b366'}, {'index': 62, 'anonymous_id': 'c4da537c-1651-4dae-8486-7db30d67b366', 'user_id': 'c4da537c-1651-4dae-8486-7db30d67b366'}, {'index': 63, 'anonymous_id': 'c4da537c-1651-4dae-8486-7db30d67b366', 'user_id': 'c4da537c-1651-4dae-8486-7db30d67b366'}, {'index': 64, 'anonymous_id': 'c4da537c-1651-4dae-8486-7db30d67b366', 'user_id': 'c4da537c-1651-4dae-8486-7db30d67b366'}, {'index': 65, 'anonymous_id': 'c4da537c-1651-4dae-8486-7db30d67b366', 'user_id': 'c4da537c-1651-4dae-8486-7db30d67b366'}, {'index': 66, 'anonymous_id': 'c4da537c-1651-4dae-8486-7db30d67b366', 'user_id': 'c4da537c-1651-4dae-8486-7db30d67b366'}, {'index': 67, 'anonymous_id': 'c4da537c-1651-4dae-8486-7db30d67b366', 'user_id': 'c4da537c-1651-4dae-8486-7db30d67b366'}, {'index': 68, 'anonymous_id': 'c4da537c-1651-4dae-8486-7db30d67b366', 'user_id': 'c4da537c-1651-4dae-8486-7db30d67b366'}, {'index': 69, 'anonymous_id': 'c4da537c-1651-4dae-8486-7db30d67b366', 'user_id': 'c4da537c-1651-4dae-8486-7db30d67b366'}, {'index': 70, 'anonymous_id': 'c4da537c-1651-4dae-8486-7db30d67b366', 'user_id': 'c4da537c-1651-4dae-8486-7db30d67b366'}, {'index': 71, 'anonymous_id': 'c4da537c-1651-4dae-8486-7db30d67b366', 'user_id': 'c4da537c-1651-4dae-8486-7db30d67b366'}, {'index': 72, 'anonymous_id': 'c4da537c-1651-4dae-8486-7db30d67b366', 'user_id': 'c4da537c-1651-4dae-8486-7db30d67b366'}, {'index': 73, 'anonymous_id': 'c4da537c-1651-4dae-8486-7db30d67b366', 'user_id': 'c4da537c-1651-4dae-8486-7db30d67b366'}, {'index': 74, 'anonymous_id': 'c4da537c-1651-4dae-8486-7db30d67b366', 'user_id': 'c4da537c-1651-4dae-8486-7db30d67b366'}, {'index': 75, 'anonymous_id': 'c4da537c-1651-4dae-8486-7db30d67b366', 'user_id': 'c4da537c-1651-4dae-8486-7db30d67b366'}, {'index': 76, 'anonymous_id': 'c4da537c-1651-4dae-8486-7db30d67b366', 'user_id': 'c4da537c-1651-4dae-8486-7db30d67b366'}, {'index': 77, 'anonymous_id': 'c4da537c-1651-4dae-8486-7db30d67b366', 'user_id': 'c4da537c-1651-4dae-8486-7db30d67b366'}, {'index': 78, 'anonymous_id': 'c4da537c-1651-4dae-8486-7db30d67b366', 'user_id': 'c4da537c-1651-4dae-8486-7db30d67b366'}, {'index': 79, 'anonymous_id': 'c4da537c-1651-4dae-8486-7db30d67b366', 'user_id': 'c4da537c-1651-4dae-8486-7db30d67b366'}, {'index': 80, 'anonymous_id': 'c4da537c-1651-4dae-8486-7db30d67b366', 'user_id': 'c4da537c-1651-4dae-8486-7db30d67b366'}, {'index': 81, 'anonymous_id': 'c4da537c-1651-4dae-8486-7db30d67b366', 'user_id': 'c4da537c-1651-4dae-8486-7db30d67b366'}, {'index': 82, 'anonymous_id': 'c4da537c-1651-4dae-8486-7db30d67b366', 'user_id': 'c4da537c-1651-4dae-8486-7db30d67b366'}, {'index': 83, 'anonymous_id': 'c4da537c-1651-4dae-8486-7db30d67b366', 'user_id': 'c4da537c-1651-4dae-8486-7db30d67b366'}, {'index': 84, 'anonymous_id': 'c4da537c-1651-4dae-8486-7db30d67b366', 'user_id': 'c4da537c-1651-4dae-8486-7db30d67b366'}, {'index': 85, 'anonymous_id': 'c4da537c-1651-4dae-8486-7db30d67b366', 'user_id': 'c4da537c-1651-4dae-8486-7db30d67b366'}, {'index': 86, 'anonymous_id': 'c4da537c-1651-4dae-8486-7db30d67b366', 'user_id': 'c4da537c-1651-4dae-8486-7db30d67b366'}, {'index': 87, 'anonymous_id': 'c4da537c-1651-4dae-8486-7db30d67b366', 'user_id': 'c4da537c-1651-4dae-8486-7db30d67b366'}, {'index': 88, 'anonymous_id': 'c4da537c-1651-4dae-8486-7db30d67b366', 'user_id': 'c4da537c-1651-4dae-8486-7db30d67b366'}, {'index': 89, 'anonymous_id': 'c4da537c-1651-4dae-8486-7db30d67b366', 'user_id': 'c4da537c-1651-4dae-8486-7db30d67b366'}, {'index': 90, 'anonymous_id': 'c4da537c-1651-4dae-8486-7db30d67b366', 'user_id': 'c4da537c-1651-4dae-8486-7db30d67b366'}, {'index': 91, 'anonymous_id': 'c4da537c-1651-4dae-8486-7db30d67b366', 'user_id': 'c4da537c-1651-4dae-8486-7db30d67b366'}, {'index': 92, 'anonymous_id': 'c4da537c-1651-4dae-8486-7db30d67b366', 'user_id': 'c4da537c-1651-4dae-8486-7db30d67b366'}, {'index': 93, 'anonymous_id': 'c4da537c-1651-4dae-8486-7db30d67b366', 'user_id': 'c4da537c-1651-4dae-8486-7db30d67b366'}, {'index': 94, 'anonymous_id': 'c4da537c-1651-4dae-8486-7db30d67b366', 'user_id': 'c4da537c-1651-4dae-8486-7db30d67b366'}, {'index': 95, 'anonymous_id': 'c4da537c-1651-4dae-8486-7db30d67b366', 'user_id': 'c4da537c-1651-4dae-8486-7db30d67b366'}, {'index': 96, 'anonymous_id': 'c4da537c-1651-4dae-8486-7db30d67b366', 'user_id': 'c4da537c-1651-4dae-8486-7db30d67b366'}, {'index': 97, 'anonymous_id': 'c4da537c-1651-4dae-8486-7db30d67b366', 'user_id': 'c4da537c-1651-4dae-8486-7db30d67b366'}, {'index': 98, 'anonymous_id': 'c4da537c-1651-4dae-8486-7db30d67b366', 'user_id': 'c4da537c-1651-4dae-8486-7db30d67b366'}, {'index': 99, 'anonymous_id': 'c4da537c-1651-4dae-8486-7db30d67b366', 'user_id': 'c4da537c-1651-4dae-8486-7db30d67b366'}, {'index': 100, 'anonymous_id': 'c4da537c-1651-4dae-8486-7db30d67b366', 'user_id': 'c4da537c-1651-4dae-8486-7db30d67b366'}]\n"
          ]
        }
      ]
    },
    {
      "cell_type": "code",
      "source": [
        "# setup\n",
        "from pyspark.sql import SparkSession\n",
        "spark = SparkSession.builder.appName(\"use created dummy data\").getOrCreate()\n",
        "\n",
        "spark"
      ],
      "metadata": {
        "colab": {
          "base_uri": "https://localhost:8080/",
          "height": 219
        },
        "id": "n-4VopttU1R9",
        "outputId": "d65d38ac-4b67-434e-d5fe-e2ab2102c77a"
      },
      "execution_count": 22,
      "outputs": [
        {
          "output_type": "execute_result",
          "data": {
            "text/plain": [
              "<pyspark.sql.session.SparkSession at 0x7f56711fa410>"
            ],
            "text/html": [
              "\n",
              "            <div>\n",
              "                <p><b>SparkSession - in-memory</b></p>\n",
              "                \n",
              "        <div>\n",
              "            <p><b>SparkContext</b></p>\n",
              "\n",
              "            <p><a href=\"http://a6efe881b10f:4040\">Spark UI</a></p>\n",
              "\n",
              "            <dl>\n",
              "              <dt>Version</dt>\n",
              "                <dd><code>v3.3.1</code></dd>\n",
              "              <dt>Master</dt>\n",
              "                <dd><code>local[*]</code></dd>\n",
              "              <dt>AppName</dt>\n",
              "                <dd><code>use created dummy data</code></dd>\n",
              "            </dl>\n",
              "        </div>\n",
              "        \n",
              "            </div>\n",
              "        "
            ]
          },
          "metadata": {},
          "execution_count": 22
        }
      ]
    },
    {
      "cell_type": "code",
      "source": [
        "# Load fake data\n",
        "from pyspark import SparkFiles\n",
        "from pyspark.sql import Row\n",
        "\n",
        "df = spark.read.json(\"fake.json\")\n",
        "\n",
        "df.show();"
      ],
      "metadata": {
        "colab": {
          "base_uri": "https://localhost:8080/"
        },
        "id": "y6pKZMy1raC7",
        "outputId": "7a95d753-7e96-40ac-e6f0-c38abe1b8626"
      },
      "execution_count": 26,
      "outputs": [
        {
          "output_type": "stream",
          "name": "stdout",
          "text": [
            "+--------------------+-----+--------------------+\n",
            "|        anonymous_id|index|             user_id|\n",
            "+--------------------+-----+--------------------+\n",
            "|c4da537c-1651-4da...|    1|c4da537c-1651-4da...|\n",
            "|c4da537c-1651-4da...|    2|c4da537c-1651-4da...|\n",
            "|c4da537c-1651-4da...|    3|c4da537c-1651-4da...|\n",
            "|c4da537c-1651-4da...|    4|c4da537c-1651-4da...|\n",
            "|c4da537c-1651-4da...|    5|c4da537c-1651-4da...|\n",
            "|c4da537c-1651-4da...|    6|c4da537c-1651-4da...|\n",
            "|c4da537c-1651-4da...|    7|c4da537c-1651-4da...|\n",
            "|c4da537c-1651-4da...|    8|c4da537c-1651-4da...|\n",
            "|c4da537c-1651-4da...|    9|c4da537c-1651-4da...|\n",
            "|c4da537c-1651-4da...|   10|c4da537c-1651-4da...|\n",
            "|c4da537c-1651-4da...|   11|c4da537c-1651-4da...|\n",
            "|c4da537c-1651-4da...|   12|c4da537c-1651-4da...|\n",
            "|c4da537c-1651-4da...|   13|c4da537c-1651-4da...|\n",
            "|c4da537c-1651-4da...|   14|c4da537c-1651-4da...|\n",
            "|c4da537c-1651-4da...|   15|c4da537c-1651-4da...|\n",
            "|c4da537c-1651-4da...|   16|c4da537c-1651-4da...|\n",
            "|c4da537c-1651-4da...|   17|c4da537c-1651-4da...|\n",
            "|c4da537c-1651-4da...|   18|c4da537c-1651-4da...|\n",
            "|c4da537c-1651-4da...|   19|c4da537c-1651-4da...|\n",
            "|c4da537c-1651-4da...|   20|c4da537c-1651-4da...|\n",
            "+--------------------+-----+--------------------+\n",
            "only showing top 20 rows\n",
            "\n"
          ]
        }
      ]
    }
  ]
}